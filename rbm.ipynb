{
  "nbformat": 4,
  "nbformat_minor": 0,
  "metadata": {
    "colab": {
      "provenance": []
    },
    "kernelspec": {
      "name": "python3",
      "display_name": "Python 3"
    },
    "language_info": {
      "name": "python"
    }
  },
  "cells": [
    {
      "cell_type": "code",
      "execution_count": null,
      "metadata": {
        "id": "mH-8EeJyH6j0"
      },
      "outputs": [],
      "source": [
        "import numpy as np\n",
        "import matplotlib.pyplot as plt\n",
        "import tensorflow as tf\n",
        "from tensorflow import keras\n",
        "from tensorflow.keras.layers import Input, Dense\n",
        "from tensorflow.keras.models import Model\n",
        "from sklearn.neural_network import BernoulliRBM\n",
        "from sklearn.pipeline import Pipeline\n",
        "from sklearn.preprocessing import MinMaxScaler\n",
        "import pandas as pd"
      ]
    },
    {
      "cell_type": "code",
      "source": [
        "(x_train, y_train), (x_test, y_test) = keras.datasets.fashion_mnist.load_data()"
      ],
      "metadata": {
        "id": "3h6uxz3qIA1Y"
      },
      "execution_count": null,
      "outputs": []
    },
    {
      "cell_type": "code",
      "source": [
        "#reshaping the array(preprocessing)\n",
        "x_train = x_train.reshape(x_train.shape[0], -1) / 255.\n",
        "x_test = x_test.reshape(x_test.shape[0], -1) / 255.\n",
        "print(x_train.shape, x_test.shape)"
      ],
      "metadata": {
        "colab": {
          "base_uri": "https://localhost:8080/"
        },
        "id": "b2t0xUDeIA9Z",
        "outputId": "2dd91944-d230-433b-f656-45e4f2d95516"
      },
      "execution_count": null,
      "outputs": [
        {
          "output_type": "stream",
          "name": "stdout",
          "text": [
            "(60000, 784) (10000, 784)\n"
          ]
        }
      ]
    },
    {
      "cell_type": "code",
      "source": [
        "#initializing rbm model\n",
        "rbm = BernoulliRBM(n_components=256, learning_rate=0.01, n_iter=10, random_state=42)"
      ],
      "metadata": {
        "id": "rYLO5pVYaslG"
      },
      "execution_count": null,
      "outputs": []
    },
    {
      "cell_type": "code",
      "source": [
        "scaler = MinMaxScaler(feature_range=(0, 1))\n",
        "x_train_scaled = scaler.fit_transform(x_train)\n",
        "x_test_scaled = scaler.transform(x_test)\n",
        "#scaling the features\n"
      ],
      "metadata": {
        "id": "cNz9wCc0a46b"
      },
      "execution_count": null,
      "outputs": []
    },
    {
      "cell_type": "code",
      "source": [
        "#function to plot original and reconstructed images\n",
        "def plot_original_and_reconstructed(original, reconstructed, n=10):\n",
        "    plt.figure(figsize=(20, 4))\n",
        "    for i in range(n):\n",
        "        # Original images\n",
        "        ax = plt.subplot(2, n, i + 1)\n",
        "        plt.imshow(original[i].reshape(28, 28), cmap='gray')\n",
        "        plt.title(\"Original\")\n",
        "        plt.axis('off')\n",
        "\n",
        "        # Reconstructed images\n",
        "        ax = plt.subplot(2, n, i + 1 + n)\n",
        "        plt.imshow(reconstructed[i].reshape(28, 28), cmap='gray')\n",
        "        plt.title(\"Reconstructed\")\n",
        "        plt.axis('off')\n",
        "    plt.show()"
      ],
      "metadata": {
        "id": "US-zswgLdmIE"
      },
      "execution_count": null,
      "outputs": []
    },
    {
      "cell_type": "code",
      "source": [
        "rbm.fit(x_train_scaled)"
      ],
      "metadata": {
        "colab": {
          "base_uri": "https://localhost:8080/",
          "height": 74
        },
        "id": "Ga0JCyhaa5Bt",
        "outputId": "6401433e-6b57-4582-bea5-4718b5a593ee"
      },
      "execution_count": null,
      "outputs": [
        {
          "output_type": "execute_result",
          "data": {
            "text/plain": [
              "BernoulliRBM(learning_rate=0.01, random_state=42)"
            ],
            "text/html": [
              "<style>#sk-container-id-2 {color: black;background-color: white;}#sk-container-id-2 pre{padding: 0;}#sk-container-id-2 div.sk-toggleable {background-color: white;}#sk-container-id-2 label.sk-toggleable__label {cursor: pointer;display: block;width: 100%;margin-bottom: 0;padding: 0.3em;box-sizing: border-box;text-align: center;}#sk-container-id-2 label.sk-toggleable__label-arrow:before {content: \"▸\";float: left;margin-right: 0.25em;color: #696969;}#sk-container-id-2 label.sk-toggleable__label-arrow:hover:before {color: black;}#sk-container-id-2 div.sk-estimator:hover label.sk-toggleable__label-arrow:before {color: black;}#sk-container-id-2 div.sk-toggleable__content {max-height: 0;max-width: 0;overflow: hidden;text-align: left;background-color: #f0f8ff;}#sk-container-id-2 div.sk-toggleable__content pre {margin: 0.2em;color: black;border-radius: 0.25em;background-color: #f0f8ff;}#sk-container-id-2 input.sk-toggleable__control:checked~div.sk-toggleable__content {max-height: 200px;max-width: 100%;overflow: auto;}#sk-container-id-2 input.sk-toggleable__control:checked~label.sk-toggleable__label-arrow:before {content: \"▾\";}#sk-container-id-2 div.sk-estimator input.sk-toggleable__control:checked~label.sk-toggleable__label {background-color: #d4ebff;}#sk-container-id-2 div.sk-label input.sk-toggleable__control:checked~label.sk-toggleable__label {background-color: #d4ebff;}#sk-container-id-2 input.sk-hidden--visually {border: 0;clip: rect(1px 1px 1px 1px);clip: rect(1px, 1px, 1px, 1px);height: 1px;margin: -1px;overflow: hidden;padding: 0;position: absolute;width: 1px;}#sk-container-id-2 div.sk-estimator {font-family: monospace;background-color: #f0f8ff;border: 1px dotted black;border-radius: 0.25em;box-sizing: border-box;margin-bottom: 0.5em;}#sk-container-id-2 div.sk-estimator:hover {background-color: #d4ebff;}#sk-container-id-2 div.sk-parallel-item::after {content: \"\";width: 100%;border-bottom: 1px solid gray;flex-grow: 1;}#sk-container-id-2 div.sk-label:hover label.sk-toggleable__label {background-color: #d4ebff;}#sk-container-id-2 div.sk-serial::before {content: \"\";position: absolute;border-left: 1px solid gray;box-sizing: border-box;top: 0;bottom: 0;left: 50%;z-index: 0;}#sk-container-id-2 div.sk-serial {display: flex;flex-direction: column;align-items: center;background-color: white;padding-right: 0.2em;padding-left: 0.2em;position: relative;}#sk-container-id-2 div.sk-item {position: relative;z-index: 1;}#sk-container-id-2 div.sk-parallel {display: flex;align-items: stretch;justify-content: center;background-color: white;position: relative;}#sk-container-id-2 div.sk-item::before, #sk-container-id-2 div.sk-parallel-item::before {content: \"\";position: absolute;border-left: 1px solid gray;box-sizing: border-box;top: 0;bottom: 0;left: 50%;z-index: -1;}#sk-container-id-2 div.sk-parallel-item {display: flex;flex-direction: column;z-index: 1;position: relative;background-color: white;}#sk-container-id-2 div.sk-parallel-item:first-child::after {align-self: flex-end;width: 50%;}#sk-container-id-2 div.sk-parallel-item:last-child::after {align-self: flex-start;width: 50%;}#sk-container-id-2 div.sk-parallel-item:only-child::after {width: 0;}#sk-container-id-2 div.sk-dashed-wrapped {border: 1px dashed gray;margin: 0 0.4em 0.5em 0.4em;box-sizing: border-box;padding-bottom: 0.4em;background-color: white;}#sk-container-id-2 div.sk-label label {font-family: monospace;font-weight: bold;display: inline-block;line-height: 1.2em;}#sk-container-id-2 div.sk-label-container {text-align: center;}#sk-container-id-2 div.sk-container {/* jupyter's `normalize.less` sets `[hidden] { display: none; }` but bootstrap.min.css set `[hidden] { display: none !important; }` so we also need the `!important` here to be able to override the default hidden behavior on the sphinx rendered scikit-learn.org. See: https://github.com/scikit-learn/scikit-learn/issues/21755 */display: inline-block !important;position: relative;}#sk-container-id-2 div.sk-text-repr-fallback {display: none;}</style><div id=\"sk-container-id-2\" class=\"sk-top-container\"><div class=\"sk-text-repr-fallback\"><pre>BernoulliRBM(learning_rate=0.01, random_state=42)</pre><b>In a Jupyter environment, please rerun this cell to show the HTML representation or trust the notebook. <br />On GitHub, the HTML representation is unable to render, please try loading this page with nbviewer.org.</b></div><div class=\"sk-container\" hidden><div class=\"sk-item\"><div class=\"sk-estimator sk-toggleable\"><input class=\"sk-toggleable__control sk-hidden--visually\" id=\"sk-estimator-id-2\" type=\"checkbox\" checked><label for=\"sk-estimator-id-2\" class=\"sk-toggleable__label sk-toggleable__label-arrow\">BernoulliRBM</label><div class=\"sk-toggleable__content\"><pre>BernoulliRBM(learning_rate=0.01, random_state=42)</pre></div></div></div></div></div>"
            ]
          },
          "metadata": {},
          "execution_count": 49
        }
      ]
    },
    {
      "cell_type": "code",
      "source": [
        "#extracing latent features\n",
        "x_train_latent = rbm.transform(x_train_scaled)\n",
        "x_test_latent = rbm.transform(x_test_scaled)\n",
        "\n",
        "print(x_train_latent.shape, x_test_latent.shape)"
      ],
      "metadata": {
        "colab": {
          "base_uri": "https://localhost:8080/"
        },
        "id": "tocg6Qzja5Fn",
        "outputId": "a8d407e0-d189-46a0-fb81-1f50cc4b3ce5"
      },
      "execution_count": null,
      "outputs": [
        {
          "output_type": "stream",
          "name": "stdout",
          "text": [
            "(60000, 256) (10000, 256)\n"
          ]
        }
      ]
    },
    {
      "cell_type": "code",
      "source": [
        "# function to reconstruct the input from the hidden representation\n",
        "def reconstruct_rbm(rbm, hidden_representation):\n",
        "    return np.dot(hidden_representation, rbm.components_) + rbm.intercept_visible_\n"
      ],
      "metadata": {
        "id": "sr_Jn_mUeiLm"
      },
      "execution_count": null,
      "outputs": []
    },
    {
      "cell_type": "code",
      "source": [
        "# reconstructing the  data\n",
        "x_train_reconstructed = reconstruct_rbm(rbm, x_train_latent)\n",
        "x_test_reconstructed = reconstruct_rbm(rbm, x_test_latent)"
      ],
      "metadata": {
        "id": "COiS2R98eCjI"
      },
      "execution_count": null,
      "outputs": []
    },
    {
      "cell_type": "code",
      "source": [
        "plot_original_and_reconstructed(x_test_scaled, x_test_reconstructed)"
      ],
      "metadata": {
        "colab": {
          "base_uri": "https://localhost:8080/",
          "height": 303
        },
        "id": "oID641a-d1tN",
        "outputId": "79b694d8-f54a-4572-87d7-4a26c8eb9b20"
      },
      "execution_count": null,
      "outputs": [
        {
          "output_type": "display_data",
          "data": {
            "text/plain": [
              "<Figure size 2000x400 with 20 Axes>"
            ],
            "image/png": "[encoded data removed]"
          },
          "metadata": {}
        }
      ]
    },
    {
      "cell_type": "code",
      "source": [
        "#creating the model layers\n",
        "input_layer = Input(shape=(x_train_latent.shape[1],))\n",
        "hidden_layer_1 = Dense(128, activation='relu')(input_layer)\n",
        "hidden_layer_2 = Dense(64, activation='relu')(hidden_layer_1)\n",
        "output_layer = Dense(10, activation='softmax')(hidden_layer_2)"
      ],
      "metadata": {
        "id": "_RDSsCava5p1"
      },
      "execution_count": null,
      "outputs": []
    },
    {
      "cell_type": "code",
      "source": [
        "#creating the mlp model which uses the rbm latent layer\n",
        "mlp_model = Model(inputs=input_layer, outputs=output_layer)\n",
        "mlp_model.compile(optimizer='adam', loss='sparse_categorical_crossentropy', metrics=['accuracy'])\n"
      ],
      "metadata": {
        "id": "7taDAotac3dz"
      },
      "execution_count": null,
      "outputs": []
    },
    {
      "cell_type": "code",
      "source": [
        "mlp_model.summary()"
      ],
      "metadata": {
        "colab": {
          "base_uri": "https://localhost:8080/"
        },
        "id": "-_f4Nbegc68e",
        "outputId": "f950e9cd-1496-47ec-a700-e71f78143e88"
      },
      "execution_count": null,
      "outputs": [
        {
          "output_type": "stream",
          "name": "stdout",
          "text": [
            "Model: \"model\"\n",
            "_________________________________________________________________\n",
            " Layer (type)                Output Shape              Param #   \n",
            "=================================================================\n",
            " input_1 (InputLayer)        [(None, 256)]             0         \n",
            "                                                                 \n",
            " dense (Dense)               (None, 128)               32896     \n",
            "                                                                 \n",
            " dense_1 (Dense)             (None, 64)                8256      \n",
            "                                                                 \n",
            " dense_2 (Dense)             (None, 10)                650       \n",
            "                                                                 \n",
            "=================================================================\n",
            "Total params: 41802 (163.29 KB)\n",
            "Trainable params: 41802 (163.29 KB)\n",
            "Non-trainable params: 0 (0.00 Byte)\n",
            "_________________________________________________________________\n"
          ]
        }
      ]
    },
    {
      "cell_type": "code",
      "source": [
        "mlp_model.fit(x_train_latent, y_train, epochs=20, batch_size=128, validation_data=(x_test_latent, y_test))\n"
      ],
      "metadata": {
        "colab": {
          "base_uri": "https://localhost:8080/"
        },
        "id": "2lMtVBKVc7AW",
        "outputId": "0c011f7b-0435-4fa2-c192-3002c6740ede"
      },
      "execution_count": null,
      "outputs": [
        {
          "output_type": "stream",
          "name": "stdout",
          "text": [
            "Train on 60000 samples, validate on 10000 samples\n",
            "Epoch 1/20\n",
            "60000/60000 [==============================] - 2s 27us/sample - loss: 0.5659 - acc: 0.7969 - val_loss: 0.4737 - val_acc: 0.8249\n",
            "Epoch 2/20\n",
            " 2688/60000 [>.............................] - ETA: 1s - loss: 0.4334 - acc: 0.8315"
          ]
        },
        {
          "output_type": "stream",
          "name": "stderr",
          "text": [
            "/usr/local/lib/python3.10/dist-packages/keras/src/engine/training_v1.py:2335: UserWarning: `Model.state_updates` will be removed in a future version. This property should not be used in TensorFlow 2.0, as `updates` are applied automatically.\n",
            "  updates = self.state_updates\n"
          ]
        },
        {
          "output_type": "stream",
          "name": "stdout",
          "text": [
            "60000/60000 [==============================] - 1s 24us/sample - loss: 0.4229 - acc: 0.8421 - val_loss: 0.4259 - val_acc: 0.8400\n",
            "Epoch 3/20\n",
            "60000/60000 [==============================] - 1s 23us/sample - loss: 0.4021 - acc: 0.8502 - val_loss: 0.4196 - val_acc: 0.8418\n",
            "Epoch 4/20\n",
            "60000/60000 [==============================] - 1s 24us/sample - loss: 0.3841 - acc: 0.8557 - val_loss: 0.4134 - val_acc: 0.8464\n",
            "Epoch 5/20\n",
            "60000/60000 [==============================] - 2s 36us/sample - loss: 0.3732 - acc: 0.8589 - val_loss: 0.4044 - val_acc: 0.8497\n",
            "Epoch 6/20\n",
            "60000/60000 [==============================] - 2s 36us/sample - loss: 0.3656 - acc: 0.8626 - val_loss: 0.3972 - val_acc: 0.8543\n",
            "Epoch 7/20\n",
            "60000/60000 [==============================] - 1s 24us/sample - loss: 0.3585 - acc: 0.8658 - val_loss: 0.3851 - val_acc: 0.8556\n",
            "Epoch 8/20\n",
            "60000/60000 [==============================] - 1s 23us/sample - loss: 0.3508 - acc: 0.8682 - val_loss: 0.3970 - val_acc: 0.8522\n",
            "Epoch 9/20\n",
            "60000/60000 [==============================] - 1s 24us/sample - loss: 0.3430 - acc: 0.8687 - val_loss: 0.3818 - val_acc: 0.8599\n",
            "Epoch 10/20\n",
            "60000/60000 [==============================] - 1s 23us/sample - loss: 0.3388 - acc: 0.8714 - val_loss: 0.3737 - val_acc: 0.8604\n",
            "Epoch 11/20\n",
            "60000/60000 [==============================] - 1s 24us/sample - loss: 0.3325 - acc: 0.8748 - val_loss: 0.3740 - val_acc: 0.8589\n",
            "Epoch 12/20\n",
            "60000/60000 [==============================] - 1s 23us/sample - loss: 0.3306 - acc: 0.8750 - val_loss: 0.3667 - val_acc: 0.8624\n",
            "Epoch 13/20\n",
            "60000/60000 [==============================] - 1s 23us/sample - loss: 0.3242 - acc: 0.8779 - val_loss: 0.3880 - val_acc: 0.8535\n",
            "Epoch 14/20\n",
            "60000/60000 [==============================] - 2s 35us/sample - loss: 0.3209 - acc: 0.8788 - val_loss: 0.3895 - val_acc: 0.8574\n",
            "Epoch 15/20\n",
            "60000/60000 [==============================] - 2s 36us/sample - loss: 0.3159 - acc: 0.8801 - val_loss: 0.3714 - val_acc: 0.8597\n",
            "Epoch 16/20\n",
            "60000/60000 [==============================] - 1s 22us/sample - loss: 0.3119 - acc: 0.8813 - val_loss: 0.3841 - val_acc: 0.8598\n",
            "Epoch 17/20\n",
            "60000/60000 [==============================] - 1s 22us/sample - loss: 0.3083 - acc: 0.8831 - val_loss: 0.3597 - val_acc: 0.8665\n",
            "Epoch 18/20\n",
            "60000/60000 [==============================] - 1s 22us/sample - loss: 0.3056 - acc: 0.8846 - val_loss: 0.3593 - val_acc: 0.8644\n",
            "Epoch 19/20\n",
            "60000/60000 [==============================] - 1s 23us/sample - loss: 0.3018 - acc: 0.8847 - val_loss: 0.3599 - val_acc: 0.8632\n",
            "Epoch 20/20\n",
            "60000/60000 [==============================] - 1s 23us/sample - loss: 0.2972 - acc: 0.8865 - val_loss: 0.3630 - val_acc: 0.8686\n"
          ]
        },
        {
          "output_type": "execute_result",
          "data": {
            "text/plain": [
              "<keras.src.callbacks.History at 0x79ec626872e0>"
            ]
          },
          "metadata": {},
          "execution_count": 20
        }
      ]
    },
    {
      "cell_type": "code",
      "source": [
        "loss_latent, accuracy_latent = mlp_model.evaluate(x_test_latent, y_test)\n",
        "print(f'Test accuracy using RBM latent representations: {accuracy_latent}')"
      ],
      "metadata": {
        "colab": {
          "base_uri": "https://localhost:8080/"
        },
        "id": "lpzJytXHc7Ei",
        "outputId": "9768ad63-7bcc-4e06-deef-f953cf8f00b1"
      },
      "execution_count": null,
      "outputs": [
        {
          "output_type": "stream",
          "name": "stdout",
          "text": [
            "Test accuracy using RBM latent representations: 0.8686000108718872\n"
          ]
        }
      ]
    },
    {
      "cell_type": "code",
      "source": [
        "input_layer_raw = Input(shape=(x_train.shape[1],))\n",
        "hidden_layer_1_raw = Dense(128, activation='relu')(input_layer_raw)\n",
        "hidden_layer_2_raw = Dense(64, activation='relu')(hidden_layer_1_raw)\n",
        "output_layer_raw = Dense(10, activation='softmax')(hidden_layer_2_raw)\n"
      ],
      "metadata": {
        "id": "ZO3K_hKu0222"
      },
      "execution_count": null,
      "outputs": []
    },
    {
      "cell_type": "code",
      "source": [
        "#mlp layer which uses the raw images\n",
        "mlp_model_raw = Model(inputs=input_layer_raw, outputs=output_layer_raw)\n",
        "mlp_model_raw.compile(optimizer='adam', loss='sparse_categorical_crossentropy', metrics=['accuracy'])\n",
        "\n",
        "mlp_model_raw.summary()"
      ],
      "metadata": {
        "colab": {
          "base_uri": "https://localhost:8080/"
        },
        "id": "2yirvf8Z04ew",
        "outputId": "d80d4cc7-1844-4426-961c-d62d3e0a64ce"
      },
      "execution_count": null,
      "outputs": [
        {
          "output_type": "stream",
          "name": "stdout",
          "text": [
            "Model: \"model_1\"\n",
            "_________________________________________________________________\n",
            " Layer (type)                Output Shape              Param #   \n",
            "=================================================================\n",
            " input_2 (InputLayer)        [(None, 784)]             0         \n",
            "                                                                 \n",
            " dense_3 (Dense)             (None, 128)               100480    \n",
            "                                                                 \n",
            " dense_4 (Dense)             (None, 64)                8256      \n",
            "                                                                 \n",
            " dense_5 (Dense)             (None, 10)                650       \n",
            "                                                                 \n",
            "=================================================================\n",
            "Total params: 109386 (427.29 KB)\n",
            "Trainable params: 109386 (427.29 KB)\n",
            "Non-trainable params: 0 (0.00 Byte)\n",
            "_________________________________________________________________\n"
          ]
        }
      ]
    },
    {
      "cell_type": "code",
      "source": [
        "mlp_model_raw.fit(x_train, y_train, epochs=20, batch_size=128, validation_data=(x_test, y_test))\n"
      ],
      "metadata": {
        "colab": {
          "base_uri": "https://localhost:8080/"
        },
        "id": "ZSg5AlA604gk",
        "outputId": "f4130700-9c34-42ca-81a5-ed98527afcd4"
      },
      "execution_count": null,
      "outputs": [
        {
          "output_type": "stream",
          "name": "stdout",
          "text": [
            "Train on 60000 samples, validate on 10000 samples\n",
            "Epoch 1/20\n",
            "60000/60000 [==============================] - 4s 65us/sample - loss: 0.5534 - acc: 0.8086 - val_loss: 0.4502 - val_acc: 0.8416\n",
            "Epoch 2/20\n",
            "60000/60000 [==============================] - 2s 32us/sample - loss: 0.3915 - acc: 0.8609 - val_loss: 0.4140 - val_acc: 0.8517\n",
            "Epoch 3/20\n",
            "60000/60000 [==============================] - 2s 33us/sample - loss: 0.3524 - acc: 0.8728 - val_loss: 0.3668 - val_acc: 0.8692\n",
            "Epoch 4/20\n",
            "60000/60000 [==============================] - 3s 53us/sample - loss: 0.3227 - acc: 0.8827 - val_loss: 0.3546 - val_acc: 0.8752\n",
            "Epoch 5/20\n",
            "60000/60000 [==============================] - 3s 43us/sample - loss: 0.3070 - acc: 0.8884 - val_loss: 0.3527 - val_acc: 0.8701\n",
            "Epoch 6/20\n",
            "60000/60000 [==============================] - 2s 33us/sample - loss: 0.2913 - acc: 0.8919 - val_loss: 0.3440 - val_acc: 0.8755\n",
            "Epoch 7/20\n",
            "60000/60000 [==============================] - 2s 33us/sample - loss: 0.2773 - acc: 0.8974 - val_loss: 0.3670 - val_acc: 0.8663\n",
            "Epoch 8/20\n",
            "60000/60000 [==============================] - 2s 33us/sample - loss: 0.2661 - acc: 0.9014 - val_loss: 0.3264 - val_acc: 0.8824\n",
            "Epoch 9/20\n",
            "60000/60000 [==============================] - 2s 33us/sample - loss: 0.2582 - acc: 0.9027 - val_loss: 0.3333 - val_acc: 0.8804\n",
            "Epoch 10/20\n",
            "60000/60000 [==============================] - 4s 64us/sample - loss: 0.2484 - acc: 0.9070 - val_loss: 0.3352 - val_acc: 0.8822\n",
            "Epoch 11/20\n",
            "60000/60000 [==============================] - 2s 38us/sample - loss: 0.2404 - acc: 0.9100 - val_loss: 0.3464 - val_acc: 0.8771\n",
            "Epoch 12/20\n",
            "60000/60000 [==============================] - 2s 32us/sample - loss: 0.2312 - acc: 0.9140 - val_loss: 0.3666 - val_acc: 0.8721\n",
            "Epoch 13/20\n",
            "60000/60000 [==============================] - 2s 32us/sample - loss: 0.2257 - acc: 0.9161 - val_loss: 0.3540 - val_acc: 0.8792\n",
            "Epoch 14/20\n",
            "60000/60000 [==============================] - 2s 32us/sample - loss: 0.2176 - acc: 0.9188 - val_loss: 0.3243 - val_acc: 0.8884\n",
            "Epoch 15/20\n",
            "60000/60000 [==============================] - 2s 32us/sample - loss: 0.2124 - acc: 0.9189 - val_loss: 0.3559 - val_acc: 0.8774\n",
            "Epoch 16/20\n",
            "60000/60000 [==============================] - 3s 43us/sample - loss: 0.2089 - acc: 0.9213 - val_loss: 0.3391 - val_acc: 0.8859\n",
            "Epoch 17/20\n",
            "60000/60000 [==============================] - 3s 50us/sample - loss: 0.2016 - acc: 0.9258 - val_loss: 0.3446 - val_acc: 0.8836\n",
            "Epoch 18/20\n",
            "60000/60000 [==============================] - 2s 32us/sample - loss: 0.1968 - acc: 0.9261 - val_loss: 0.3843 - val_acc: 0.8703\n",
            "Epoch 19/20\n",
            "60000/60000 [==============================] - 2s 33us/sample - loss: 0.1915 - acc: 0.9284 - val_loss: 0.3357 - val_acc: 0.8867\n",
            "Epoch 20/20\n",
            "60000/60000 [==============================] - 2s 32us/sample - loss: 0.1867 - acc: 0.9302 - val_loss: 0.3615 - val_acc: 0.8808\n"
          ]
        },
        {
          "output_type": "execute_result",
          "data": {
            "text/plain": [
              "<keras.src.callbacks.History at 0x79ec1d352da0>"
            ]
          },
          "metadata": {},
          "execution_count": 34
        }
      ]
    },
    {
      "cell_type": "code",
      "source": [
        "loss_raw, accuracy_raw = mlp_model_raw.evaluate(x_test, y_test)\n",
        "print(f'Test accuracy using raw images: {accuracy_raw}')\n"
      ],
      "metadata": {
        "colab": {
          "base_uri": "https://localhost:8080/"
        },
        "id": "HBLLrP2Z1Vu5",
        "outputId": "e1b3ad91-5056-4848-a54c-5978c3a2720c"
      },
      "execution_count": null,
      "outputs": [
        {
          "output_type": "stream",
          "name": "stdout",
          "text": [
            "Test accuracy using raw images: 0.8808000087738037\n"
          ]
        }
      ]
    },
    {
      "cell_type": "code",
      "source": [
        "results = {\n",
        "    'Model': ['mlp with latent representations', 'mlp with raw images'],\n",
        "    'Loss': [loss_latent, loss_raw],\n",
        "    'Accuracy': [accuracy_latent, accuracy_raw]\n",
        "}\n",
        "df_results = pd.DataFrame(results)\n",
        "print(df_results)\n"
      ],
      "metadata": {
        "colab": {
          "base_uri": "https://localhost:8080/"
        },
        "id": "_DxzYR0U14P3",
        "outputId": "95c87dff-ae4e-4719-f525-15ebdb9de656"
      },
      "execution_count": null,
      "outputs": [
        {
          "output_type": "stream",
          "name": "stdout",
          "text": [
            "                             Model      Loss  Accuracy\n",
            "0  mlp with latent representations  0.363005    0.8686\n",
            "1              mlp with raw images  0.361490    0.8808\n"
          ]
        }
      ]
    }
  ]
}